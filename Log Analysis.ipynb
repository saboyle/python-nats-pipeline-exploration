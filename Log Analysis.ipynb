{
 "cells": [
  {
   "cell_type": "code",
   "execution_count": 1,
   "metadata": {},
   "outputs": [],
   "source": [
    "import pandas as pd\n",
    "import datetime"
   ]
  },
  {
   "cell_type": "code",
   "execution_count": 2,
   "metadata": {},
   "outputs": [],
   "source": [
    "def import_log(filename):\n",
    "    dftemp = pd.read_csv(filename, header=None)\n",
    "    dftemp.columns = ['ts', 'ms', 'pipeline', 'stage', 'cid', 'notes']\n",
    "    return dftemp.copy()"
   ]
  },
  {
   "cell_type": "code",
   "execution_count": 3,
   "metadata": {},
   "outputs": [],
   "source": [
    "def to_unix_timestamp(dfr):\n",
    "    date_format = \"%Y-%m-%d %H:%M:%S\"\n",
    "    unix_epoch = datetime.datetime.strptime(dfr['ts'], date_format).timestamp() + float(dfr['ms']) / 1000\n",
    "    return unix_epoch"
   ]
  },
  {
   "cell_type": "code",
   "execution_count": 4,
   "metadata": {},
   "outputs": [],
   "source": [
    "df1 = import_log('./p1_pipeline.log')\n",
    "df2 = import_log('./p2_pipeline.log')\n",
    "df3 = import_log('./p3_pipeline.log')\n",
    "df4 = import_log('./p4_pipeline.log')"
   ]
  },
  {
   "cell_type": "code",
   "execution_count": 5,
   "metadata": {},
   "outputs": [
    {
     "data": {
      "text/html": [
       "<div>\n",
       "<style scoped>\n",
       "    .dataframe tbody tr th:only-of-type {\n",
       "        vertical-align: middle;\n",
       "    }\n",
       "\n",
       "    .dataframe tbody tr th {\n",
       "        vertical-align: top;\n",
       "    }\n",
       "\n",
       "    .dataframe thead th {\n",
       "        text-align: right;\n",
       "    }\n",
       "</style>\n",
       "<table border=\"1\" class=\"dataframe\">\n",
       "  <thead>\n",
       "    <tr style=\"text-align: right;\">\n",
       "      <th></th>\n",
       "      <th>ts</th>\n",
       "      <th>ms</th>\n",
       "      <th>pipeline</th>\n",
       "      <th>stage</th>\n",
       "      <th>cid</th>\n",
       "      <th>notes</th>\n",
       "    </tr>\n",
       "  </thead>\n",
       "  <tbody>\n",
       "    <tr>\n",
       "      <th>0</th>\n",
       "      <td>2019-01-06 01:55:24</td>\n",
       "      <td>982</td>\n",
       "      <td>p4</td>\n",
       "      <td>s0</td>\n",
       "      <td>92525ecf-7f86-4d01-bff2-bec820c85124</td>\n",
       "      <td>Received raw request</td>\n",
       "    </tr>\n",
       "    <tr>\n",
       "      <th>1</th>\n",
       "      <td>2019-01-06 01:55:24</td>\n",
       "      <td>993</td>\n",
       "      <td>p4</td>\n",
       "      <td>s1</td>\n",
       "      <td>92525ecf-7f86-4d01-bff2-bec820c85124</td>\n",
       "      <td>Published validated request</td>\n",
       "    </tr>\n",
       "    <tr>\n",
       "      <th>2</th>\n",
       "      <td>2019-01-06 01:55:24</td>\n",
       "      <td>993</td>\n",
       "      <td>p4</td>\n",
       "      <td>s0</td>\n",
       "      <td>26333cbb-5c2b-46e2-ad3a-8707028421aa</td>\n",
       "      <td>Received raw request</td>\n",
       "    </tr>\n",
       "    <tr>\n",
       "      <th>3</th>\n",
       "      <td>2019-01-06 01:55:25</td>\n",
       "      <td>4</td>\n",
       "      <td>p4</td>\n",
       "      <td>s1</td>\n",
       "      <td>26333cbb-5c2b-46e2-ad3a-8707028421aa</td>\n",
       "      <td>Published validated request</td>\n",
       "    </tr>\n",
       "  </tbody>\n",
       "</table>\n",
       "</div>"
      ],
      "text/plain": [
       "                    ts   ms pipeline stage  \\\n",
       "0  2019-01-06 01:55:24  982       p4    s0   \n",
       "1  2019-01-06 01:55:24  993       p4    s1   \n",
       "2  2019-01-06 01:55:24  993       p4    s0   \n",
       "3  2019-01-06 01:55:25    4       p4    s1   \n",
       "\n",
       "                                     cid                         notes  \n",
       "0   92525ecf-7f86-4d01-bff2-bec820c85124          Received raw request  \n",
       "1   92525ecf-7f86-4d01-bff2-bec820c85124   Published validated request  \n",
       "2   26333cbb-5c2b-46e2-ad3a-8707028421aa          Received raw request  \n",
       "3   26333cbb-5c2b-46e2-ad3a-8707028421aa   Published validated request  "
      ]
     },
     "execution_count": 5,
     "metadata": {},
     "output_type": "execute_result"
    }
   ],
   "source": [
    "df_logs = pd.concat([df1, df2, df3, df4])\n",
    "df4[:4]"
   ]
  },
  {
   "cell_type": "code",
   "execution_count": 6,
   "metadata": {},
   "outputs": [],
   "source": [
    "df_logs['tsunix'] = df_logs.apply(to_unix_timestamp, axis=1)"
   ]
  },
  {
   "cell_type": "code",
   "execution_count": 7,
   "metadata": {},
   "outputs": [
    {
     "data": {
      "text/plain": [
       "20000"
      ]
     },
     "execution_count": 7,
     "metadata": {},
     "output_type": "execute_result"
    }
   ],
   "source": [
    "len(df_logs)"
   ]
  },
  {
   "cell_type": "code",
   "execution_count": 8,
   "metadata": {},
   "outputs": [],
   "source": [
    "pt = df_logs.pivot_table(columns=['stage'], index=['pipeline','cid'], values=['tsunix'])"
   ]
  },
  {
   "cell_type": "code",
   "execution_count": 9,
   "metadata": {},
   "outputs": [],
   "source": [
    "df_summary = pd.DataFrame(pt.to_records())"
   ]
  },
  {
   "cell_type": "code",
   "execution_count": 10,
   "metadata": {},
   "outputs": [],
   "source": [
    "df_summary.columns = ['pipeline', 'cid', 's0', 's1', 's2', 's3', 's4']"
   ]
  },
  {
   "cell_type": "code",
   "execution_count": 11,
   "metadata": {},
   "outputs": [],
   "source": [
    "df_summary['i0'] = df_summary['s1'] - df_summary['s0']\n",
    "df_summary['i1'] = df_summary['s2'] - df_summary['s1']\n",
    "df_summary['i2'] = df_summary['s3'] - df_summary['s2']\n",
    "df_summary['i3'] = df_summary['s4'] - df_summary['s3']\n",
    "df_summary['i_total'] = df_summary['s4'] - df_summary['s0']"
   ]
  },
  {
   "cell_type": "code",
   "execution_count": 12,
   "metadata": {},
   "outputs": [],
   "source": [
    "%matplotlib inline"
   ]
  },
  {
   "cell_type": "code",
   "execution_count": 78,
   "metadata": {},
   "outputs": [],
   "source": [
    "import pandas as pd\n",
    "import numpy as np\n",
    "import matplotlib.pyplot as plt\n",
    "\n",
    "def pipeline_violin_plot(df, pipeline):\n",
    "    fig, axes = plt.subplots()\n",
    "\n",
    "    axes.violinplot(dataset = [df[(df['pipeline'].str.strip() == pipeline)][\"i0\"].values,\n",
    "                               df[(df['pipeline'].str.strip() == pipeline)][\"i1\"].values,\n",
    "                               df[(df['pipeline'].str.strip() == pipeline)][\"i2\"].values,\n",
    "                               df[(df['pipeline'].str.strip() == pipeline)][\"i3\"].values,],\n",
    "                   showmeans=True)\n",
    "\n",
    "    axes.set_title(f\"Pipeline Analysis - {pipeline}\")\n",
    "    axes.yaxis.grid(True)\n",
    "    axes.set_xlabel('Stage')\n",
    "    axes.set_ylabel('Stage Latencies (seconds)')\n",
    "\n",
    "    plt.show()\n",
    "    \n",
    "def pipeline_comparison_violin_plot(df):\n",
    "    fig, axes = plt.subplots()\n",
    "\n",
    "    axes.violinplot(dataset = [df[(df['pipeline'].str.strip() == \"p1\")][\"i_total\"].values,\n",
    "                               df[(df['pipeline'].str.strip() == \"p2\")][\"i_total\"].values,\n",
    "                               df[(df['pipeline'].str.strip() == \"p3\")][\"i_total\"].values,\n",
    "                               df[(df['pipeline'].str.strip() == \"p4\")][\"i_total\"].values,], \n",
    "                    showmeans=True )\n",
    "\n",
    "    axes.set_title('Pipeline Comparison Analysis')\n",
    "    axes.yaxis.grid(True)\n",
    "    axes.set_xlabel('Pipeline')\n",
    "    axes.set_ylabel('End to End Latencies (seconds)')\n",
    "\n",
    "    plt.show()"
   ]
  },
  {
   "cell_type": "code",
   "execution_count": 79,
   "metadata": {},
   "outputs": [
    {
     "data": {
      "text/html": [
       "<div>\n",
       "<style scoped>\n",
       "    .dataframe tbody tr th:only-of-type {\n",
       "        vertical-align: middle;\n",
       "    }\n",
       "\n",
       "    .dataframe tbody tr th {\n",
       "        vertical-align: top;\n",
       "    }\n",
       "\n",
       "    .dataframe thead th {\n",
       "        text-align: right;\n",
       "    }\n",
       "</style>\n",
       "<table border=\"1\" class=\"dataframe\">\n",
       "  <thead>\n",
       "    <tr style=\"text-align: right;\">\n",
       "      <th></th>\n",
       "      <th>pipeline</th>\n",
       "      <th>cid</th>\n",
       "      <th>s0</th>\n",
       "      <th>s1</th>\n",
       "      <th>s2</th>\n",
       "      <th>s3</th>\n",
       "      <th>s4</th>\n",
       "      <th>i0</th>\n",
       "      <th>i1</th>\n",
       "      <th>i2</th>\n",
       "      <th>i3</th>\n",
       "      <th>i_total</th>\n",
       "    </tr>\n",
       "  </thead>\n",
       "  <tbody>\n",
       "    <tr>\n",
       "      <th>0</th>\n",
       "      <td>p1</td>\n",
       "      <td>001912d0-a5ea-4573-82e8-afd5cc183e11</td>\n",
       "      <td>1.546645e+09</td>\n",
       "      <td>1.546645e+09</td>\n",
       "      <td>1.546645e+09</td>\n",
       "      <td>1.546645e+09</td>\n",
       "      <td>1.546645e+09</td>\n",
       "      <td>0.010</td>\n",
       "      <td>12.993</td>\n",
       "      <td>38.153</td>\n",
       "      <td>10.449</td>\n",
       "      <td>61.605</td>\n",
       "    </tr>\n",
       "    <tr>\n",
       "      <th>1</th>\n",
       "      <td>p1</td>\n",
       "      <td>00323a51-c2df-49a3-ab2a-9d99422be0cb</td>\n",
       "      <td>1.546645e+09</td>\n",
       "      <td>1.546645e+09</td>\n",
       "      <td>1.546645e+09</td>\n",
       "      <td>1.546645e+09</td>\n",
       "      <td>1.546645e+09</td>\n",
       "      <td>0.011</td>\n",
       "      <td>32.783</td>\n",
       "      <td>18.194</td>\n",
       "      <td>10.411</td>\n",
       "      <td>61.399</td>\n",
       "    </tr>\n",
       "  </tbody>\n",
       "</table>\n",
       "</div>"
      ],
      "text/plain": [
       "  pipeline                                    cid            s0            s1  \\\n",
       "0       p1   001912d0-a5ea-4573-82e8-afd5cc183e11  1.546645e+09  1.546645e+09   \n",
       "1       p1   00323a51-c2df-49a3-ab2a-9d99422be0cb  1.546645e+09  1.546645e+09   \n",
       "\n",
       "             s2            s3            s4     i0      i1      i2      i3  \\\n",
       "0  1.546645e+09  1.546645e+09  1.546645e+09  0.010  12.993  38.153  10.449   \n",
       "1  1.546645e+09  1.546645e+09  1.546645e+09  0.011  32.783  18.194  10.411   \n",
       "\n",
       "   i_total  \n",
       "0   61.605  \n",
       "1   61.399  "
      ]
     },
     "execution_count": 79,
     "metadata": {},
     "output_type": "execute_result"
    }
   ],
   "source": [
    "df_summary[:2]"
   ]
  },
  {
   "cell_type": "code",
   "execution_count": 80,
   "metadata": {},
   "outputs": [
    {
     "data": {
      "image/png": "[encoded data removed]",
      "text/plain": [
       "<Figure size 432x288 with 1 Axes>"
      ]
     },
     "metadata": {
      "needs_background": "light"
     },
     "output_type": "display_data"
    }
   ],
   "source": [
    "pipeline_violin_plot(df_summary, 'p1')"
   ]
  },
  {
   "cell_type": "code",
   "execution_count": 81,
   "metadata": {},
   "outputs": [
    {
     "data": {
      "image/png": "[encoded data removed]",
      "text/plain": [
       "<Figure size 432x288 with 1 Axes>"
      ]
     },
     "metadata": {
      "needs_background": "light"
     },
     "output_type": "display_data"
    }
   ],
   "source": [
    "pipeline_comparison_violin_plot(df_summary)"
   ]
  }
 ],
 "metadata": {
  "kernelspec": {
   "display_name": "Python 3",
   "language": "python",
   "name": "python3"
  },
  "language_info": {
   "codemirror_mode": {
    "name": "ipython",
    "version": 3
   },
   "file_extension": ".py",
   "mimetype": "text/x-python",
   "name": "python",
   "nbconvert_exporter": "python",
   "pygments_lexer": "ipython3",
   "version": "3.7.0"
  }
 },
 "nbformat": 4,
 "nbformat_minor": 2
}
